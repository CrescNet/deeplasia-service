{
 "cells": [
  {
   "cell_type": "code",
   "execution_count": null,
   "outputs": [],
   "source": [],
   "metadata": {
    "collapsed": false
   },
   "id": "cd828867daaed965"
  },
  {
   "cell_type": "code",
   "execution_count": 6,
   "id": "initial_id",
   "metadata": {
    "collapsed": true,
    "ExecuteTime": {
     "end_time": "2023-11-02T11:43:23.013430860Z",
     "start_time": "2023-11-02T11:43:20.431973442Z"
    }
   },
   "outputs": [
    {
     "data": {
      "text/plain": "{'bone_age': 164.9562530517578, 'sex_predicted': False, 'used_sex': 'f'}"
     },
     "execution_count": 6,
     "metadata": {},
     "output_type": "execute_result"
    }
   ],
   "source": [
    "import requests\n",
    "\n",
    "url = \"http://localhost:8080/predict\"\n",
    "\n",
    "test_img = \"/home/rassman/bone2gene/data/annotated/ACh/ach_00001.png\"\n",
    "files = {'file': open(test_img,'rb')}\n",
    "\n",
    "data = {\n",
    "    \"sex\": \"female\",\n",
    "    \"use_mask\": \"1\"  # 1 for True, 0 for False\n",
    "}\n",
    "\n",
    "resp = requests.post(url, files=files, data=data)\n",
    "resp.json()"
   ]
  },
  {
   "cell_type": "code",
   "execution_count": null,
   "outputs": [],
   "source": [],
   "metadata": {
    "collapsed": false
   },
   "id": "6a54d73254f37086"
  }
 ],
 "metadata": {
  "kernelspec": {
   "display_name": "Python 3",
   "language": "python",
   "name": "python3"
  },
  "language_info": {
   "codemirror_mode": {
    "name": "ipython",
    "version": 2
   },
   "file_extension": ".py",
   "mimetype": "text/x-python",
   "name": "python",
   "nbconvert_exporter": "python",
   "pygments_lexer": "ipython2",
   "version": "2.7.6"
  }
 },
 "nbformat": 4,
 "nbformat_minor": 5
}
